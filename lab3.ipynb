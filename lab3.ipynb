{
 "cells": [
  {
   "cell_type": "markdown",
   "metadata": {},
   "source": [
    "## Laboratorio # 3 - RL\n",
    "### Task 2"
   ]
  },
  {
   "cell_type": "code",
   "execution_count": 26,
   "metadata": {},
   "outputs": [],
   "source": [
    "import numpy as np\n",
    "import random"
   ]
  },
  {
   "cell_type": "code",
   "execution_count": 27,
   "metadata": {},
   "outputs": [],
   "source": [
    "class InventoryEnvironment:\n",
    "    def __init__(self):\n",
    "        self.products = ['product_A', 'product_B']\n",
    "        self.max_stock = 10\n",
    "        self.demand = {'product_A': [0, 1, 2], 'product_B': [0, 1, 2]}\n",
    "        self.restock_cost = {'product_A': 5, 'product_B': 7}\n",
    "        self.sell_price = {'product_A': 10, 'product_B': 15}\n",
    "        self.state = None\n",
    "\n",
    "    def reset(self):\n",
    "        self.state = {product: random.randint(0, self.max_stock) for product in self.products}\n",
    "        return self.state\n",
    "\n",
    "    def step(self, action):\n",
    "        reward = 0\n",
    "        for product in self.products:\n",
    "            stock = self.state[product]\n",
    "            restock = action[product]\n",
    "            self.state[product] = min(self.max_stock, stock + restock)\n",
    "            demand = random.choice(self.demand[product])\n",
    "            sales = min(demand, self.state[product])\n",
    "            self.state[product] -= sales\n",
    "            reward += sales * self.sell_price[product] - restock * self.restock_cost[product]\n",
    "        return self.state, reward"
   ]
  },
  {
   "cell_type": "code",
   "execution_count": 28,
   "metadata": {},
   "outputs": [],
   "source": [
    "def generate_episode(env, epsilon=0.1):\n",
    "    state = env.reset()\n",
    "    episode = []\n",
    "    done = False\n",
    "    while not done:\n",
    "        action = {}\n",
    "        for product in env.products:\n",
    "            if random.uniform(0, 1) < epsilon:\n",
    "                action[product] = random.randint(0, env.max_stock)\n",
    "            else:\n",
    "                # Acción predeterminada: reponer a la mitad del stock máximo\n",
    "                action[product] = env.max_stock // 2\n",
    "        new_state, reward = env.step(action)\n",
    "        episode.append((state, action, reward, new_state))\n",
    "        state = new_state\n",
    "        done = True # Para simplificar, terminamos el episodio después de un paso\n",
    "    return episode"
   ]
  },
  {
   "cell_type": "code",
   "execution_count": 29,
   "metadata": {},
   "outputs": [],
   "source": [
    "# Implementación del aprendizaje off-policy con Q-learning\n",
    "def q_learning(env, num_episodes, alpha=0.1, gamma=0.9, epsilon=0.1):\n",
    "    Q = {}\n",
    "    for product in env.products:\n",
    "        Q[product] = np.zeros((env.max_stock + 1, env.max_stock + 1))\n",
    "    \n",
    "    for _ in range(num_episodes):\n",
    "        episode = generate_episode(env, epsilon=epsilon)\n",
    "        for state, action, reward, new_state in episode:\n",
    "            for product in env.products:\n",
    "                old_value = Q[product][state[product], action[product]]\n",
    "                next_max = np.max(Q[product][new_state[product]])\n",
    "                Q[product][state[product], action[product]] = (1 - alpha) * old_value + alpha * (reward + gamma * next_max)\n",
    "    return Q"
   ]
  },
  {
   "cell_type": "code",
   "execution_count": 30,
   "metadata": {},
   "outputs": [
    {
     "ename": "NameError",
     "evalue": "name 'policy' is not defined",
     "output_type": "error",
     "traceback": [
      "\u001b[1;31m---------------------------------------------------------------------------\u001b[0m",
      "\u001b[1;31mNameError\u001b[0m                                 Traceback (most recent call last)",
      "Cell \u001b[1;32mIn[30], line 2\u001b[0m\n\u001b[0;32m      1\u001b[0m env \u001b[38;5;241m=\u001b[39m InventoryEnvironment()\n\u001b[1;32m----> 2\u001b[0m Q_values \u001b[38;5;241m=\u001b[39m \u001b[43mq_learning\u001b[49m\u001b[43m(\u001b[49m\u001b[43menv\u001b[49m\u001b[43m,\u001b[49m\u001b[43m \u001b[49m\u001b[43mnum_episodes\u001b[49m\u001b[38;5;241;43m=\u001b[39;49m\u001b[38;5;241;43m1000\u001b[39;49m\u001b[43m)\u001b[49m\n\u001b[0;32m      4\u001b[0m \u001b[38;5;66;03m# Mostrar los valores Q aprendidos\u001b[39;00m\n\u001b[0;32m      5\u001b[0m \u001b[38;5;28;01mfor\u001b[39;00m product \u001b[38;5;129;01min\u001b[39;00m env\u001b[38;5;241m.\u001b[39mproducts:\n",
      "Cell \u001b[1;32mIn[29], line 8\u001b[0m, in \u001b[0;36mq_learning\u001b[1;34m(env, num_episodes, alpha, gamma, epsilon)\u001b[0m\n\u001b[0;32m      5\u001b[0m     Q[product] \u001b[38;5;241m=\u001b[39m np\u001b[38;5;241m.\u001b[39mzeros((env\u001b[38;5;241m.\u001b[39mmax_stock \u001b[38;5;241m+\u001b[39m \u001b[38;5;241m1\u001b[39m, env\u001b[38;5;241m.\u001b[39mmax_stock \u001b[38;5;241m+\u001b[39m \u001b[38;5;241m1\u001b[39m))\n\u001b[0;32m      7\u001b[0m \u001b[38;5;28;01mfor\u001b[39;00m _ \u001b[38;5;129;01min\u001b[39;00m \u001b[38;5;28mrange\u001b[39m(num_episodes):\n\u001b[1;32m----> 8\u001b[0m     episode \u001b[38;5;241m=\u001b[39m \u001b[43mgenerate_episode\u001b[49m\u001b[43m(\u001b[49m\u001b[43menv\u001b[49m\u001b[43m,\u001b[49m\u001b[43m \u001b[49m\u001b[43mepsilon\u001b[49m\u001b[38;5;241;43m=\u001b[39;49m\u001b[43mepsilon\u001b[49m\u001b[43m)\u001b[49m\n\u001b[0;32m      9\u001b[0m     \u001b[38;5;28;01mfor\u001b[39;00m state, action, reward, new_state \u001b[38;5;129;01min\u001b[39;00m episode:\n\u001b[0;32m     10\u001b[0m         \u001b[38;5;28;01mfor\u001b[39;00m product \u001b[38;5;129;01min\u001b[39;00m env\u001b[38;5;241m.\u001b[39mproducts:\n",
      "Cell \u001b[1;32mIn[28], line 11\u001b[0m, in \u001b[0;36mgenerate_episode\u001b[1;34m(env, epsilon)\u001b[0m\n\u001b[0;32m      9\u001b[0m         action[product] \u001b[38;5;241m=\u001b[39m random\u001b[38;5;241m.\u001b[39mrandint(\u001b[38;5;241m0\u001b[39m, env\u001b[38;5;241m.\u001b[39mmax_stock)\n\u001b[0;32m     10\u001b[0m     \u001b[38;5;28;01melse\u001b[39;00m:\n\u001b[1;32m---> 11\u001b[0m         action[product] \u001b[38;5;241m=\u001b[39m \u001b[43mpolicy\u001b[49m[state[product]]\n\u001b[0;32m     12\u001b[0m new_state, reward \u001b[38;5;241m=\u001b[39m env\u001b[38;5;241m.\u001b[39mstep(action)\n\u001b[0;32m     13\u001b[0m episode\u001b[38;5;241m.\u001b[39mappend((state, action, reward, new_state))\n",
      "\u001b[1;31mNameError\u001b[0m: name 'policy' is not defined"
     ]
    }
   ],
   "source": [
    "env = InventoryEnvironment()\n",
    "Q_values = q_learning(env, num_episodes=1000)\n",
    "\n",
    "# Mostrar los valores Q aprendidos\n",
    "for product in env.products:\n",
    "    print(f\"Q-values for {product}:\")\n",
    "    print(Q_values[product])"
   ]
  }
 ],
 "metadata": {
  "kernelspec": {
   "display_name": "Python 3",
   "language": "python",
   "name": "python3"
  },
  "language_info": {
   "codemirror_mode": {
    "name": "ipython",
    "version": 3
   },
   "file_extension": ".py",
   "mimetype": "text/x-python",
   "name": "python",
   "nbconvert_exporter": "python",
   "pygments_lexer": "ipython3",
   "version": "3.11.4"
  }
 },
 "nbformat": 4,
 "nbformat_minor": 2
}
